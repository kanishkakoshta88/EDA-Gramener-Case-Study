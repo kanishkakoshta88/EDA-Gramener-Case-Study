{
 "cells": [
  {
   "cell_type": "markdown",
   "id": "d1a3414e",
   "metadata": {},
   "source": [
    "#### Importing the libraries."
   ]
  },
  {
   "cell_type": "code",
   "execution_count": 1,
   "id": "92fd6bb7",
   "metadata": {},
   "outputs": [],
   "source": [
    "#import the warnings.\n",
    "import warnings\n",
    "warnings.filterwarnings(\"ignore\")\n"
   ]
  },
  {
   "cell_type": "code",
   "execution_count": 2,
   "id": "8db2b209",
   "metadata": {},
   "outputs": [],
   "source": [
    "#import the useful libraries.\n",
    "import pandas as pd, numpy as np\n",
    "import matplotlib.pyplot as plt, seaborn as sns\n",
    "%matplotlib inline"
   ]
  },
  {
   "cell_type": "markdown",
   "id": "977241bb",
   "metadata": {},
   "source": [
    "#### Read in the Data set. "
   ]
  },
  {
   "cell_type": "code",
   "execution_count": 3,
   "id": "9cf0f951",
   "metadata": {},
   "outputs": [],
   "source": [
    "#read the data set of \"loan\" in inp0.\n",
    "inp0= pd.read_csv(\"loan.csv\")"
   ]
  },
  {
   "cell_type": "code",
   "execution_count": 4,
   "id": "062f9d85",
   "metadata": {},
   "outputs": [
    {
     "data": {
      "text/html": [
       "<div>\n",
       "<style scoped>\n",
       "    .dataframe tbody tr th:only-of-type {\n",
       "        vertical-align: middle;\n",
       "    }\n",
       "\n",
       "    .dataframe tbody tr th {\n",
       "        vertical-align: top;\n",
       "    }\n",
       "\n",
       "    .dataframe thead th {\n",
       "        text-align: right;\n",
       "    }\n",
       "</style>\n",
       "<table border=\"1\" class=\"dataframe\">\n",
       "  <thead>\n",
       "    <tr style=\"text-align: right;\">\n",
       "      <th></th>\n",
       "      <th>id</th>\n",
       "      <th>member_id</th>\n",
       "      <th>loan_amnt</th>\n",
       "      <th>funded_amnt</th>\n",
       "      <th>funded_amnt_inv</th>\n",
       "      <th>term</th>\n",
       "      <th>int_rate</th>\n",
       "      <th>installment</th>\n",
       "      <th>grade</th>\n",
       "      <th>sub_grade</th>\n",
       "      <th>...</th>\n",
       "      <th>num_tl_90g_dpd_24m</th>\n",
       "      <th>num_tl_op_past_12m</th>\n",
       "      <th>pct_tl_nvr_dlq</th>\n",
       "      <th>percent_bc_gt_75</th>\n",
       "      <th>pub_rec_bankruptcies</th>\n",
       "      <th>tax_liens</th>\n",
       "      <th>tot_hi_cred_lim</th>\n",
       "      <th>total_bal_ex_mort</th>\n",
       "      <th>total_bc_limit</th>\n",
       "      <th>total_il_high_credit_limit</th>\n",
       "    </tr>\n",
       "  </thead>\n",
       "  <tbody>\n",
       "    <tr>\n",
       "      <th>0</th>\n",
       "      <td>1077501</td>\n",
       "      <td>1296599</td>\n",
       "      <td>5000</td>\n",
       "      <td>5000</td>\n",
       "      <td>4975.0</td>\n",
       "      <td>36 months</td>\n",
       "      <td>10.65%</td>\n",
       "      <td>162.87</td>\n",
       "      <td>B</td>\n",
       "      <td>B2</td>\n",
       "      <td>...</td>\n",
       "      <td>NaN</td>\n",
       "      <td>NaN</td>\n",
       "      <td>NaN</td>\n",
       "      <td>NaN</td>\n",
       "      <td>0.0</td>\n",
       "      <td>0.0</td>\n",
       "      <td>NaN</td>\n",
       "      <td>NaN</td>\n",
       "      <td>NaN</td>\n",
       "      <td>NaN</td>\n",
       "    </tr>\n",
       "    <tr>\n",
       "      <th>1</th>\n",
       "      <td>1077430</td>\n",
       "      <td>1314167</td>\n",
       "      <td>2500</td>\n",
       "      <td>2500</td>\n",
       "      <td>2500.0</td>\n",
       "      <td>60 months</td>\n",
       "      <td>15.27%</td>\n",
       "      <td>59.83</td>\n",
       "      <td>C</td>\n",
       "      <td>C4</td>\n",
       "      <td>...</td>\n",
       "      <td>NaN</td>\n",
       "      <td>NaN</td>\n",
       "      <td>NaN</td>\n",
       "      <td>NaN</td>\n",
       "      <td>0.0</td>\n",
       "      <td>0.0</td>\n",
       "      <td>NaN</td>\n",
       "      <td>NaN</td>\n",
       "      <td>NaN</td>\n",
       "      <td>NaN</td>\n",
       "    </tr>\n",
       "    <tr>\n",
       "      <th>2</th>\n",
       "      <td>1077175</td>\n",
       "      <td>1313524</td>\n",
       "      <td>2400</td>\n",
       "      <td>2400</td>\n",
       "      <td>2400.0</td>\n",
       "      <td>36 months</td>\n",
       "      <td>15.96%</td>\n",
       "      <td>84.33</td>\n",
       "      <td>C</td>\n",
       "      <td>C5</td>\n",
       "      <td>...</td>\n",
       "      <td>NaN</td>\n",
       "      <td>NaN</td>\n",
       "      <td>NaN</td>\n",
       "      <td>NaN</td>\n",
       "      <td>0.0</td>\n",
       "      <td>0.0</td>\n",
       "      <td>NaN</td>\n",
       "      <td>NaN</td>\n",
       "      <td>NaN</td>\n",
       "      <td>NaN</td>\n",
       "    </tr>\n",
       "    <tr>\n",
       "      <th>3</th>\n",
       "      <td>1076863</td>\n",
       "      <td>1277178</td>\n",
       "      <td>10000</td>\n",
       "      <td>10000</td>\n",
       "      <td>10000.0</td>\n",
       "      <td>36 months</td>\n",
       "      <td>13.49%</td>\n",
       "      <td>339.31</td>\n",
       "      <td>C</td>\n",
       "      <td>C1</td>\n",
       "      <td>...</td>\n",
       "      <td>NaN</td>\n",
       "      <td>NaN</td>\n",
       "      <td>NaN</td>\n",
       "      <td>NaN</td>\n",
       "      <td>0.0</td>\n",
       "      <td>0.0</td>\n",
       "      <td>NaN</td>\n",
       "      <td>NaN</td>\n",
       "      <td>NaN</td>\n",
       "      <td>NaN</td>\n",
       "    </tr>\n",
       "    <tr>\n",
       "      <th>4</th>\n",
       "      <td>1075358</td>\n",
       "      <td>1311748</td>\n",
       "      <td>3000</td>\n",
       "      <td>3000</td>\n",
       "      <td>3000.0</td>\n",
       "      <td>60 months</td>\n",
       "      <td>12.69%</td>\n",
       "      <td>67.79</td>\n",
       "      <td>B</td>\n",
       "      <td>B5</td>\n",
       "      <td>...</td>\n",
       "      <td>NaN</td>\n",
       "      <td>NaN</td>\n",
       "      <td>NaN</td>\n",
       "      <td>NaN</td>\n",
       "      <td>0.0</td>\n",
       "      <td>0.0</td>\n",
       "      <td>NaN</td>\n",
       "      <td>NaN</td>\n",
       "      <td>NaN</td>\n",
       "      <td>NaN</td>\n",
       "    </tr>\n",
       "  </tbody>\n",
       "</table>\n",
       "<p>5 rows × 111 columns</p>\n",
       "</div>"
      ],
      "text/plain": [
       "        id  member_id  loan_amnt  funded_amnt  funded_amnt_inv        term  \\\n",
       "0  1077501    1296599       5000         5000           4975.0   36 months   \n",
       "1  1077430    1314167       2500         2500           2500.0   60 months   \n",
       "2  1077175    1313524       2400         2400           2400.0   36 months   \n",
       "3  1076863    1277178      10000        10000          10000.0   36 months   \n",
       "4  1075358    1311748       3000         3000           3000.0   60 months   \n",
       "\n",
       "  int_rate  installment grade sub_grade  ... num_tl_90g_dpd_24m  \\\n",
       "0   10.65%       162.87     B        B2  ...                NaN   \n",
       "1   15.27%        59.83     C        C4  ...                NaN   \n",
       "2   15.96%        84.33     C        C5  ...                NaN   \n",
       "3   13.49%       339.31     C        C1  ...                NaN   \n",
       "4   12.69%        67.79     B        B5  ...                NaN   \n",
       "\n",
       "  num_tl_op_past_12m pct_tl_nvr_dlq  percent_bc_gt_75 pub_rec_bankruptcies  \\\n",
       "0                NaN            NaN               NaN                  0.0   \n",
       "1                NaN            NaN               NaN                  0.0   \n",
       "2                NaN            NaN               NaN                  0.0   \n",
       "3                NaN            NaN               NaN                  0.0   \n",
       "4                NaN            NaN               NaN                  0.0   \n",
       "\n",
       "  tax_liens tot_hi_cred_lim total_bal_ex_mort total_bc_limit  \\\n",
       "0       0.0             NaN               NaN            NaN   \n",
       "1       0.0             NaN               NaN            NaN   \n",
       "2       0.0             NaN               NaN            NaN   \n",
       "3       0.0             NaN               NaN            NaN   \n",
       "4       0.0             NaN               NaN            NaN   \n",
       "\n",
       "  total_il_high_credit_limit  \n",
       "0                        NaN  \n",
       "1                        NaN  \n",
       "2                        NaN  \n",
       "3                        NaN  \n",
       "4                        NaN  \n",
       "\n",
       "[5 rows x 111 columns]"
      ]
     },
     "execution_count": 4,
     "metadata": {},
     "output_type": "execute_result"
    }
   ],
   "source": [
    "#The head of the data frame.\n",
    "inp0.head()"
   ]
  },
  {
   "cell_type": "code",
   "execution_count": 5,
   "id": "ef00cee6",
   "metadata": {},
   "outputs": [
    {
     "data": {
      "text/plain": [
       "id                              int64\n",
       "member_id                       int64\n",
       "loan_amnt                       int64\n",
       "funded_amnt                     int64\n",
       "funded_amnt_inv               float64\n",
       "                               ...   \n",
       "tax_liens                     float64\n",
       "tot_hi_cred_lim               float64\n",
       "total_bal_ex_mort             float64\n",
       "total_bc_limit                float64\n",
       "total_il_high_credit_limit    float64\n",
       "Length: 111, dtype: object"
      ]
     },
     "execution_count": 5,
     "metadata": {},
     "output_type": "execute_result"
    }
   ],
   "source": [
    "#The dtypes of dataset.\n",
    "inp0.dtypes"
   ]
  },
  {
   "cell_type": "markdown",
   "id": "7228db64",
   "metadata": {},
   "source": [
    "#### Fixing rows and columns."
   ]
  },
  {
   "cell_type": "code",
   "execution_count": 6,
   "id": "d0b4c289",
   "metadata": {},
   "outputs": [
    {
     "data": {
      "text/plain": [
       "id                                0\n",
       "member_id                         0\n",
       "loan_amnt                         0\n",
       "funded_amnt                       0\n",
       "funded_amnt_inv                   0\n",
       "                              ...  \n",
       "tax_liens                        39\n",
       "tot_hi_cred_lim               39717\n",
       "total_bal_ex_mort             39717\n",
       "total_bc_limit                39717\n",
       "total_il_high_credit_limit    39717\n",
       "Length: 111, dtype: int64"
      ]
     },
     "execution_count": 6,
     "metadata": {},
     "output_type": "execute_result"
    }
   ],
   "source": [
    "#columns with null values\n",
    "inp0.isnull().sum()"
   ]
  },
  {
   "cell_type": "code",
   "execution_count": 7,
   "id": "9a3f4171",
   "metadata": {},
   "outputs": [
    {
     "data": {
      "text/plain": [
       "id                              0.0\n",
       "member_id                       0.0\n",
       "loan_amnt                       0.0\n",
       "funded_amnt                     0.0\n",
       "funded_amnt_inv                 0.0\n",
       "                              ...  \n",
       "tax_liens                       0.0\n",
       "tot_hi_cred_lim               100.0\n",
       "total_bal_ex_mort             100.0\n",
       "total_bc_limit                100.0\n",
       "total_il_high_credit_limit    100.0\n",
       "Length: 111, dtype: float64"
      ]
     },
     "execution_count": 7,
     "metadata": {},
     "output_type": "execute_result"
    }
   ],
   "source": [
    "# percentage of missing values in each column\n",
    "missing_values = round(inp0.isnull().sum()/len(inp0.index), 2)*100\n",
    "missing_values"
   ]
  },
  {
   "cell_type": "code",
   "execution_count": 8,
   "id": "ab8c76bf",
   "metadata": {},
   "outputs": [
    {
     "data": {
      "text/plain": [
       "(39717, 111)"
      ]
     },
     "execution_count": 8,
     "metadata": {},
     "output_type": "execute_result"
    }
   ],
   "source": [
    "# shape of the dataset\n",
    "inp0.shape"
   ]
  },
  {
   "cell_type": "code",
   "execution_count": 9,
   "id": "c55376b3",
   "metadata": {},
   "outputs": [
    {
     "data": {
      "text/plain": [
       "mths_since_last_record             93.0\n",
       "next_pymnt_d                       97.0\n",
       "mths_since_last_major_derog       100.0\n",
       "annual_inc_joint                  100.0\n",
       "dti_joint                         100.0\n",
       "verification_status_joint         100.0\n",
       "tot_coll_amt                      100.0\n",
       "tot_cur_bal                       100.0\n",
       "open_acc_6m                       100.0\n",
       "open_il_6m                        100.0\n",
       "open_il_12m                       100.0\n",
       "open_il_24m                       100.0\n",
       "mths_since_rcnt_il                100.0\n",
       "total_bal_il                      100.0\n",
       "il_util                           100.0\n",
       "open_rv_12m                       100.0\n",
       "open_rv_24m                       100.0\n",
       "max_bal_bc                        100.0\n",
       "all_util                          100.0\n",
       "total_rev_hi_lim                  100.0\n",
       "inq_fi                            100.0\n",
       "total_cu_tl                       100.0\n",
       "inq_last_12m                      100.0\n",
       "acc_open_past_24mths              100.0\n",
       "avg_cur_bal                       100.0\n",
       "bc_open_to_buy                    100.0\n",
       "bc_util                           100.0\n",
       "mo_sin_old_il_acct                100.0\n",
       "mo_sin_old_rev_tl_op              100.0\n",
       "mo_sin_rcnt_rev_tl_op             100.0\n",
       "mo_sin_rcnt_tl                    100.0\n",
       "mort_acc                          100.0\n",
       "mths_since_recent_bc              100.0\n",
       "mths_since_recent_bc_dlq          100.0\n",
       "mths_since_recent_inq             100.0\n",
       "mths_since_recent_revol_delinq    100.0\n",
       "num_accts_ever_120_pd             100.0\n",
       "num_actv_bc_tl                    100.0\n",
       "num_actv_rev_tl                   100.0\n",
       "num_bc_sats                       100.0\n",
       "num_bc_tl                         100.0\n",
       "num_il_tl                         100.0\n",
       "num_op_rev_tl                     100.0\n",
       "num_rev_accts                     100.0\n",
       "num_rev_tl_bal_gt_0               100.0\n",
       "num_sats                          100.0\n",
       "num_tl_120dpd_2m                  100.0\n",
       "num_tl_30dpd                      100.0\n",
       "num_tl_90g_dpd_24m                100.0\n",
       "num_tl_op_past_12m                100.0\n",
       "pct_tl_nvr_dlq                    100.0\n",
       "percent_bc_gt_75                  100.0\n",
       "tot_hi_cred_lim                   100.0\n",
       "total_bal_ex_mort                 100.0\n",
       "total_bc_limit                    100.0\n",
       "total_il_high_credit_limit        100.0\n",
       "dtype: float64"
      ]
     },
     "execution_count": 9,
     "metadata": {},
     "output_type": "execute_result"
    }
   ],
   "source": [
    "# printing the columns having more than 70% missing values\n",
    "columns_with_high_missing= missing_values[missing_values>70]\n",
    "columns_with_high_missing"
   ]
  },
  {
   "cell_type": "code",
   "execution_count": 10,
   "id": "479d64b0",
   "metadata": {},
   "outputs": [],
   "source": [
    "# droping the columns having more than 70% missing values.\n",
    "columns_to_drop = missing_values[missing_values>70].index"
   ]
  },
  {
   "cell_type": "code",
   "execution_count": 11,
   "id": "3eec6996",
   "metadata": {},
   "outputs": [],
   "source": [
    "inp0 = inp0.drop(columns=columns_to_drop)"
   ]
  },
  {
   "cell_type": "code",
   "execution_count": 12,
   "id": "7fd6ccb6",
   "metadata": {},
   "outputs": [
    {
     "data": {
      "text/plain": [
       "(39717, 55)"
      ]
     },
     "execution_count": 12,
     "metadata": {},
     "output_type": "execute_result"
    }
   ],
   "source": [
    "#checking foe shape again.\n",
    "inp0.shape"
   ]
  },
  {
   "cell_type": "code",
   "execution_count": 13,
   "id": "b4488d19",
   "metadata": {},
   "outputs": [
    {
     "data": {
      "text/plain": [
       "id                             0.000000\n",
       "member_id                      0.000000\n",
       "loan_amnt                      0.000000\n",
       "funded_amnt                    0.000000\n",
       "funded_amnt_inv                0.000000\n",
       "term                           0.000000\n",
       "int_rate                       0.000000\n",
       "installment                    0.000000\n",
       "grade                          0.000000\n",
       "sub_grade                      0.000000\n",
       "emp_title                      6.191303\n",
       "emp_length                     2.706650\n",
       "home_ownership                 0.000000\n",
       "annual_inc                     0.000000\n",
       "verification_status            0.000000\n",
       "issue_d                        0.000000\n",
       "loan_status                    0.000000\n",
       "pymnt_plan                     0.000000\n",
       "url                            0.000000\n",
       "desc                          32.580507\n",
       "purpose                        0.000000\n",
       "title                          0.027696\n",
       "zip_code                       0.000000\n",
       "addr_state                     0.000000\n",
       "dti                            0.000000\n",
       "delinq_2yrs                    0.000000\n",
       "earliest_cr_line               0.000000\n",
       "inq_last_6mths                 0.000000\n",
       "mths_since_last_delinq        64.662487\n",
       "open_acc                       0.000000\n",
       "pub_rec                        0.000000\n",
       "revol_bal                      0.000000\n",
       "revol_util                     0.125891\n",
       "total_acc                      0.000000\n",
       "initial_list_status            0.000000\n",
       "out_prncp                      0.000000\n",
       "out_prncp_inv                  0.000000\n",
       "total_pymnt                    0.000000\n",
       "total_pymnt_inv                0.000000\n",
       "total_rec_prncp                0.000000\n",
       "total_rec_int                  0.000000\n",
       "total_rec_late_fee             0.000000\n",
       "recoveries                     0.000000\n",
       "collection_recovery_fee        0.000000\n",
       "last_pymnt_d                   0.178765\n",
       "last_pymnt_amnt                0.000000\n",
       "last_credit_pull_d             0.005036\n",
       "collections_12_mths_ex_med     0.140998\n",
       "policy_code                    0.000000\n",
       "application_type               0.000000\n",
       "acc_now_delinq                 0.000000\n",
       "chargeoff_within_12_mths       0.140998\n",
       "delinq_amnt                    0.000000\n",
       "pub_rec_bankruptcies           1.754916\n",
       "tax_liens                      0.098195\n",
       "dtype: float64"
      ]
     },
     "execution_count": 13,
     "metadata": {},
     "output_type": "execute_result"
    }
   ],
   "source": [
    "#check for null values percentage again.\n",
    "(inp0.isnull().sum()/len(inp0.index))*100"
   ]
  },
  {
   "cell_type": "code",
   "execution_count": 14,
   "id": "003ef321",
   "metadata": {},
   "outputs": [
    {
     "data": {
      "text/plain": [
       "0     NaN\n",
       "1     NaN\n",
       "2     NaN\n",
       "3    35.0\n",
       "4    38.0\n",
       "Name: mths_since_last_delinq, dtype: float64"
      ]
     },
     "execution_count": 14,
     "metadata": {},
     "output_type": "execute_result"
    }
   ],
   "source": [
    "# check the column with next highest missing value.\n",
    "inp0.mths_since_last_delinq.head()"
   ]
  },
  {
   "cell_type": "code",
   "execution_count": 15,
   "id": "c3d73747",
   "metadata": {},
   "outputs": [
    {
     "data": {
      "text/plain": [
       "0      Borrower added on 12/22/11 > I need to upgra...\n",
       "1      Borrower added on 12/22/11 > I plan to use t...\n",
       "2                                                  NaN\n",
       "3      Borrower added on 12/21/11 > to pay for prop...\n",
       "4      Borrower added on 12/21/11 > I plan on combi...\n",
       "Name: desc, dtype: object"
      ]
     },
     "execution_count": 15,
     "metadata": {},
     "output_type": "execute_result"
    }
   ],
   "source": [
    "# check the column with next highest missing value.\n",
    "inp0.desc.head()"
   ]
  },
  {
   "cell_type": "code",
   "execution_count": 16,
   "id": "c4b3686d",
   "metadata": {},
   "outputs": [],
   "source": [
    "#drop these columns also.\n",
    "inp0 = inp0.drop(['desc', 'mths_since_last_delinq'], axis=1)"
   ]
  },
  {
   "cell_type": "code",
   "execution_count": 17,
   "id": "090c9904",
   "metadata": {},
   "outputs": [
    {
     "data": {
      "text/plain": [
       "(39717, 53)"
      ]
     },
     "execution_count": 17,
     "metadata": {},
     "output_type": "execute_result"
    }
   ],
   "source": [
    "#checking foe shape again.\n",
    "inp0.shape"
   ]
  },
  {
   "cell_type": "code",
   "execution_count": 18,
   "id": "21cd7c80",
   "metadata": {},
   "outputs": [
    {
     "data": {
      "text/plain": [
       "id                            0.000000\n",
       "member_id                     0.000000\n",
       "loan_amnt                     0.000000\n",
       "funded_amnt                   0.000000\n",
       "funded_amnt_inv               0.000000\n",
       "term                          0.000000\n",
       "int_rate                      0.000000\n",
       "installment                   0.000000\n",
       "grade                         0.000000\n",
       "sub_grade                     0.000000\n",
       "emp_title                     6.191303\n",
       "emp_length                    2.706650\n",
       "home_ownership                0.000000\n",
       "annual_inc                    0.000000\n",
       "verification_status           0.000000\n",
       "issue_d                       0.000000\n",
       "loan_status                   0.000000\n",
       "pymnt_plan                    0.000000\n",
       "url                           0.000000\n",
       "purpose                       0.000000\n",
       "title                         0.027696\n",
       "zip_code                      0.000000\n",
       "addr_state                    0.000000\n",
       "dti                           0.000000\n",
       "delinq_2yrs                   0.000000\n",
       "earliest_cr_line              0.000000\n",
       "inq_last_6mths                0.000000\n",
       "open_acc                      0.000000\n",
       "pub_rec                       0.000000\n",
       "revol_bal                     0.000000\n",
       "revol_util                    0.125891\n",
       "total_acc                     0.000000\n",
       "initial_list_status           0.000000\n",
       "out_prncp                     0.000000\n",
       "out_prncp_inv                 0.000000\n",
       "total_pymnt                   0.000000\n",
       "total_pymnt_inv               0.000000\n",
       "total_rec_prncp               0.000000\n",
       "total_rec_int                 0.000000\n",
       "total_rec_late_fee            0.000000\n",
       "recoveries                    0.000000\n",
       "collection_recovery_fee       0.000000\n",
       "last_pymnt_d                  0.178765\n",
       "last_pymnt_amnt               0.000000\n",
       "last_credit_pull_d            0.005036\n",
       "collections_12_mths_ex_med    0.140998\n",
       "policy_code                   0.000000\n",
       "application_type              0.000000\n",
       "acc_now_delinq                0.000000\n",
       "chargeoff_within_12_mths      0.140998\n",
       "delinq_amnt                   0.000000\n",
       "pub_rec_bankruptcies          1.754916\n",
       "tax_liens                     0.098195\n",
       "dtype: float64"
      ]
     },
     "execution_count": 18,
     "metadata": {},
     "output_type": "execute_result"
    }
   ],
   "source": [
    "#Again check for missing percentage.\n",
    "(inp0.isnull().sum()/len(inp0.index))*100"
   ]
  },
  {
   "cell_type": "code",
   "execution_count": 19,
   "id": "893f3708",
   "metadata": {
    "scrolled": true
   },
   "outputs": [
    {
     "data": {
      "text/plain": [
       "0        1\n",
       "1        0\n",
       "2        1\n",
       "3        0\n",
       "4        0\n",
       "        ..\n",
       "39712    4\n",
       "39713    4\n",
       "39714    5\n",
       "39715    5\n",
       "39716    4\n",
       "Length: 39717, dtype: int64"
      ]
     },
     "execution_count": 19,
     "metadata": {},
     "output_type": "execute_result"
    }
   ],
   "source": [
    "#checking for missing values in rows\n",
    "inp0.isnull().sum(axis=1)\n"
   ]
  },
  {
   "cell_type": "code",
   "execution_count": 20,
   "id": "b45fe1b1",
   "metadata": {},
   "outputs": [
    {
     "data": {
      "text/html": [
       "<div>\n",
       "<style scoped>\n",
       "    .dataframe tbody tr th:only-of-type {\n",
       "        vertical-align: middle;\n",
       "    }\n",
       "\n",
       "    .dataframe tbody tr th {\n",
       "        vertical-align: top;\n",
       "    }\n",
       "\n",
       "    .dataframe thead th {\n",
       "        text-align: right;\n",
       "    }\n",
       "</style>\n",
       "<table border=\"1\" class=\"dataframe\">\n",
       "  <thead>\n",
       "    <tr style=\"text-align: right;\">\n",
       "      <th></th>\n",
       "      <th>id</th>\n",
       "      <th>member_id</th>\n",
       "      <th>loan_amnt</th>\n",
       "      <th>funded_amnt</th>\n",
       "      <th>funded_amnt_inv</th>\n",
       "      <th>term</th>\n",
       "      <th>int_rate</th>\n",
       "      <th>installment</th>\n",
       "      <th>grade</th>\n",
       "      <th>sub_grade</th>\n",
       "      <th>...</th>\n",
       "      <th>last_pymnt_amnt</th>\n",
       "      <th>last_credit_pull_d</th>\n",
       "      <th>collections_12_mths_ex_med</th>\n",
       "      <th>policy_code</th>\n",
       "      <th>application_type</th>\n",
       "      <th>acc_now_delinq</th>\n",
       "      <th>chargeoff_within_12_mths</th>\n",
       "      <th>delinq_amnt</th>\n",
       "      <th>pub_rec_bankruptcies</th>\n",
       "      <th>tax_liens</th>\n",
       "    </tr>\n",
       "  </thead>\n",
       "  <tbody>\n",
       "  </tbody>\n",
       "</table>\n",
       "<p>0 rows × 53 columns</p>\n",
       "</div>"
      ],
      "text/plain": [
       "Empty DataFrame\n",
       "Columns: [id, member_id, loan_amnt, funded_amnt, funded_amnt_inv, term, int_rate, installment, grade, sub_grade, emp_title, emp_length, home_ownership, annual_inc, verification_status, issue_d, loan_status, pymnt_plan, url, purpose, title, zip_code, addr_state, dti, delinq_2yrs, earliest_cr_line, inq_last_6mths, open_acc, pub_rec, revol_bal, revol_util, total_acc, initial_list_status, out_prncp, out_prncp_inv, total_pymnt, total_pymnt_inv, total_rec_prncp, total_rec_int, total_rec_late_fee, recoveries, collection_recovery_fee, last_pymnt_d, last_pymnt_amnt, last_credit_pull_d, collections_12_mths_ex_med, policy_code, application_type, acc_now_delinq, chargeoff_within_12_mths, delinq_amnt, pub_rec_bankruptcies, tax_liens]\n",
       "Index: []\n",
       "\n",
       "[0 rows x 53 columns]"
      ]
     },
     "execution_count": 20,
     "metadata": {},
     "output_type": "execute_result"
    }
   ],
   "source": [
    "# checking whether some rows have more than 10 missing values\n",
    "inp0[inp0.isnull().sum(axis=1) > 10]"
   ]
  },
  {
   "cell_type": "code",
   "execution_count": 21,
   "id": "0bbf084c",
   "metadata": {},
   "outputs": [
    {
     "name": "stdout",
     "output_type": "stream",
     "text": [
      "<class 'pandas.core.frame.DataFrame'>\n",
      "RangeIndex: 39717 entries, 0 to 39716\n",
      "Data columns (total 53 columns):\n",
      " #   Column                      Non-Null Count  Dtype  \n",
      "---  ------                      --------------  -----  \n",
      " 0   id                          39717 non-null  int64  \n",
      " 1   member_id                   39717 non-null  int64  \n",
      " 2   loan_amnt                   39717 non-null  int64  \n",
      " 3   funded_amnt                 39717 non-null  int64  \n",
      " 4   funded_amnt_inv             39717 non-null  float64\n",
      " 5   term                        39717 non-null  object \n",
      " 6   int_rate                    39717 non-null  object \n",
      " 7   installment                 39717 non-null  float64\n",
      " 8   grade                       39717 non-null  object \n",
      " 9   sub_grade                   39717 non-null  object \n",
      " 10  emp_title                   37258 non-null  object \n",
      " 11  emp_length                  38642 non-null  object \n",
      " 12  home_ownership              39717 non-null  object \n",
      " 13  annual_inc                  39717 non-null  float64\n",
      " 14  verification_status         39717 non-null  object \n",
      " 15  issue_d                     39717 non-null  object \n",
      " 16  loan_status                 39717 non-null  object \n",
      " 17  pymnt_plan                  39717 non-null  object \n",
      " 18  url                         39717 non-null  object \n",
      " 19  purpose                     39717 non-null  object \n",
      " 20  title                       39706 non-null  object \n",
      " 21  zip_code                    39717 non-null  object \n",
      " 22  addr_state                  39717 non-null  object \n",
      " 23  dti                         39717 non-null  float64\n",
      " 24  delinq_2yrs                 39717 non-null  int64  \n",
      " 25  earliest_cr_line            39717 non-null  object \n",
      " 26  inq_last_6mths              39717 non-null  int64  \n",
      " 27  open_acc                    39717 non-null  int64  \n",
      " 28  pub_rec                     39717 non-null  int64  \n",
      " 29  revol_bal                   39717 non-null  int64  \n",
      " 30  revol_util                  39667 non-null  object \n",
      " 31  total_acc                   39717 non-null  int64  \n",
      " 32  initial_list_status         39717 non-null  object \n",
      " 33  out_prncp                   39717 non-null  float64\n",
      " 34  out_prncp_inv               39717 non-null  float64\n",
      " 35  total_pymnt                 39717 non-null  float64\n",
      " 36  total_pymnt_inv             39717 non-null  float64\n",
      " 37  total_rec_prncp             39717 non-null  float64\n",
      " 38  total_rec_int               39717 non-null  float64\n",
      " 39  total_rec_late_fee          39717 non-null  float64\n",
      " 40  recoveries                  39717 non-null  float64\n",
      " 41  collection_recovery_fee     39717 non-null  float64\n",
      " 42  last_pymnt_d                39646 non-null  object \n",
      " 43  last_pymnt_amnt             39717 non-null  float64\n",
      " 44  last_credit_pull_d          39715 non-null  object \n",
      " 45  collections_12_mths_ex_med  39661 non-null  float64\n",
      " 46  policy_code                 39717 non-null  int64  \n",
      " 47  application_type            39717 non-null  object \n",
      " 48  acc_now_delinq              39717 non-null  int64  \n",
      " 49  chargeoff_within_12_mths    39661 non-null  float64\n",
      " 50  delinq_amnt                 39717 non-null  int64  \n",
      " 51  pub_rec_bankruptcies        39020 non-null  float64\n",
      " 52  tax_liens                   39678 non-null  float64\n",
      "dtypes: float64(18), int64(13), object(22)\n",
      "memory usage: 16.1+ MB\n"
     ]
    }
   ],
   "source": [
    "# check whether all columns are in the correct format.\n",
    "inp0.info()"
   ]
  },
  {
   "cell_type": "code",
   "execution_count": 22,
   "id": "936b3282",
   "metadata": {},
   "outputs": [
    {
     "data": {
      "text/plain": [
       "0    10.65%\n",
       "1    15.27%\n",
       "2    15.96%\n",
       "3    13.49%\n",
       "4    12.69%\n",
       "Name: int_rate, dtype: object"
      ]
     },
     "execution_count": 22,
     "metadata": {},
     "output_type": "execute_result"
    }
   ],
   "source": [
    "# checking for int rate column.\n",
    "inp0.int_rate.head()"
   ]
  },
  {
   "cell_type": "code",
   "execution_count": 23,
   "id": "59e51382",
   "metadata": {},
   "outputs": [],
   "source": [
    "#converting int rate column into float.\n",
    "inp0['int_rate'] = inp0['int_rate'].apply(lambda x: float(x.split(\"%\")[0]))"
   ]
  },
  {
   "cell_type": "code",
   "execution_count": 24,
   "id": "e2ea866f",
   "metadata": {},
   "outputs": [
    {
     "data": {
      "text/plain": [
       "0    10.65\n",
       "1    15.27\n",
       "2    15.96\n",
       "3    13.49\n",
       "4    12.69\n",
       "Name: int_rate, dtype: float64"
      ]
     },
     "execution_count": 24,
     "metadata": {},
     "output_type": "execute_result"
    }
   ],
   "source": [
    "# checking for int rate column dtype again.\n",
    "inp0.int_rate.head()"
   ]
  },
  {
   "cell_type": "code",
   "execution_count": 25,
   "id": "3ea3e4cc",
   "metadata": {},
   "outputs": [],
   "source": [
    "#droping the variables which is not important.\n",
    "inp0 = inp0.drop(['delinq_2yrs',\n",
    " 'earliest_cr_line',\n",
    " 'inq_last_6mths',\n",
    " 'open_acc',\n",
    " 'pub_rec',\n",
    " 'revol_bal',\n",
    " 'revol_util',\n",
    " 'total_acc',\n",
    " 'out_prncp',\n",
    " 'out_prncp_inv',\n",
    " 'total_pymnt',\n",
    " 'total_pymnt_inv',\n",
    " 'total_rec_prncp',\n",
    " 'total_rec_int',\n",
    " 'total_rec_late_fee',\n",
    " 'recoveries',\n",
    " 'collection_recovery_fee',\n",
    " 'last_pymnt_d',\n",
    " 'last_pymnt_amnt',\n",
    " 'last_credit_pull_d',\n",
    " 'application_type',\n",
    " 'title', \n",
    " 'url',\n",
    " 'zip_code',\n",
    " 'addr_state'], axis= 1)"
   ]
  },
  {
   "cell_type": "code",
   "execution_count": 26,
   "id": "96ac5a9e",
   "metadata": {},
   "outputs": [
    {
     "data": {
      "text/plain": [
       "(39717, 28)"
      ]
     },
     "execution_count": 26,
     "metadata": {},
     "output_type": "execute_result"
    }
   ],
   "source": [
    "#check for shape.\n",
    "inp0.shape"
   ]
  },
  {
   "cell_type": "code",
   "execution_count": 27,
   "id": "45af7ae3",
   "metadata": {},
   "outputs": [
    {
     "name": "stdout",
     "output_type": "stream",
     "text": [
      "<class 'pandas.core.frame.DataFrame'>\n",
      "RangeIndex: 39717 entries, 0 to 39716\n",
      "Data columns (total 28 columns):\n",
      " #   Column                      Non-Null Count  Dtype  \n",
      "---  ------                      --------------  -----  \n",
      " 0   id                          39717 non-null  int64  \n",
      " 1   member_id                   39717 non-null  int64  \n",
      " 2   loan_amnt                   39717 non-null  int64  \n",
      " 3   funded_amnt                 39717 non-null  int64  \n",
      " 4   funded_amnt_inv             39717 non-null  float64\n",
      " 5   term                        39717 non-null  object \n",
      " 6   int_rate                    39717 non-null  float64\n",
      " 7   installment                 39717 non-null  float64\n",
      " 8   grade                       39717 non-null  object \n",
      " 9   sub_grade                   39717 non-null  object \n",
      " 10  emp_title                   37258 non-null  object \n",
      " 11  emp_length                  38642 non-null  object \n",
      " 12  home_ownership              39717 non-null  object \n",
      " 13  annual_inc                  39717 non-null  float64\n",
      " 14  verification_status         39717 non-null  object \n",
      " 15  issue_d                     39717 non-null  object \n",
      " 16  loan_status                 39717 non-null  object \n",
      " 17  pymnt_plan                  39717 non-null  object \n",
      " 18  purpose                     39717 non-null  object \n",
      " 19  dti                         39717 non-null  float64\n",
      " 20  initial_list_status         39717 non-null  object \n",
      " 21  collections_12_mths_ex_med  39661 non-null  float64\n",
      " 22  policy_code                 39717 non-null  int64  \n",
      " 23  acc_now_delinq              39717 non-null  int64  \n",
      " 24  chargeoff_within_12_mths    39661 non-null  float64\n",
      " 25  delinq_amnt                 39717 non-null  int64  \n",
      " 26  pub_rec_bankruptcies        39020 non-null  float64\n",
      " 27  tax_liens                   39678 non-null  float64\n",
      "dtypes: float64(9), int64(7), object(12)\n",
      "memory usage: 8.5+ MB\n"
     ]
    }
   ],
   "source": [
    "inp0.info()"
   ]
  },
  {
   "cell_type": "markdown",
   "id": "f4c5eb97",
   "metadata": {},
   "source": [
    "Now let's try to look for the most important variable.\n"
   ]
  },
  {
   "cell_type": "code",
   "execution_count": 28,
   "id": "eddbcd43",
   "metadata": {},
   "outputs": [
    {
     "name": "stdout",
     "output_type": "stream",
     "text": [
      "<class 'pandas.core.series.Series'>\n",
      "RangeIndex: 39717 entries, 0 to 39716\n",
      "Series name: loan_status\n",
      "Non-Null Count  Dtype \n",
      "--------------  ----- \n",
      "39717 non-null  object\n",
      "dtypes: object(1)\n",
      "memory usage: 310.4+ KB\n"
     ]
    }
   ],
   "source": [
    "#check for the loan_status variable.\n",
    "inp0.loan_status.info()"
   ]
  },
  {
   "cell_type": "code",
   "execution_count": 29,
   "id": "2998f254",
   "metadata": {},
   "outputs": [
    {
     "data": {
      "text/plain": [
       "0     Fully Paid\n",
       "1    Charged Off\n",
       "2     Fully Paid\n",
       "3     Fully Paid\n",
       "4        Current\n",
       "Name: loan_status, dtype: object"
      ]
     },
     "execution_count": 29,
     "metadata": {},
     "output_type": "execute_result"
    }
   ],
   "source": [
    "inp0.loan_status.head()"
   ]
  },
  {
   "cell_type": "markdown",
   "id": "251c33f1",
   "metadata": {},
   "source": [
    "Since we cannot analyse those loans which are currently active because there can be a success or default so for now we cannot take that into analysis so we simply try to ignore them and continue our analysis with fully paid and charged off status loans to analyse the default pattern."
   ]
  },
  {
   "cell_type": "markdown",
   "id": "b16eece8",
   "metadata": {},
   "source": [
    "We need to relabel the values to a binary form - 0 or 1, 1 indicating that the person has defaulted and 0 otherwise."
   ]
  },
  {
   "cell_type": "code",
   "execution_count": 30,
   "id": "bb53353c",
   "metadata": {},
   "outputs": [
    {
     "data": {
      "text/plain": [
       "Fully Paid     32950\n",
       "Charged Off     5627\n",
       "Current         1140\n",
       "Name: loan_status, dtype: int64"
      ]
     },
     "execution_count": 30,
     "metadata": {},
     "output_type": "execute_result"
    }
   ],
   "source": [
    "inp0['loan_status'] = inp0['loan_status'].astype('category')\n",
    "inp0['loan_status'].value_counts()"
   ]
  },
  {
   "cell_type": "code",
   "execution_count": 31,
   "id": "1da06338",
   "metadata": {},
   "outputs": [],
   "source": [
    "# Remove current loans and mark other as binary 0 & 1.\n",
    "inp0 = inp0[inp0['loan_status'] != 'Current']"
   ]
  },
  {
   "cell_type": "code",
   "execution_count": 32,
   "id": "df71bc13",
   "metadata": {},
   "outputs": [],
   "source": [
    "inp0['loan_status'] = inp0['loan_status'].apply(lambda x: int(0) if x=='Fully Paid' else int(1))"
   ]
  },
  {
   "cell_type": "code",
   "execution_count": 33,
   "id": "0e0d5654",
   "metadata": {},
   "outputs": [
    {
     "data": {
      "text/plain": [
       "0    32950\n",
       "1     5627\n",
       "Name: loan_status, dtype: int64"
      ]
     },
     "execution_count": 33,
     "metadata": {},
     "output_type": "execute_result"
    }
   ],
   "source": [
    "# check for the loan status columns.\n",
    "inp0['loan_status'].value_counts()"
   ]
  },
  {
   "cell_type": "markdown",
   "id": "272ac61a",
   "metadata": {},
   "source": [
    "### Univariate Analysis"
   ]
  },
  {
   "cell_type": "markdown",
   "id": "195afbad",
   "metadata": {},
   "source": [
    "let's look at the overall default rate."
   ]
  },
  {
   "cell_type": "code",
   "execution_count": 34,
   "id": "19480efb",
   "metadata": {},
   "outputs": [
    {
     "data": {
      "text/plain": [
       "0.15"
      ]
     },
     "execution_count": 34,
     "metadata": {},
     "output_type": "execute_result"
    }
   ],
   "source": [
    "#Check for default rate\n",
    "round(np.mean(inp0['loan_status']), 2)"
   ]
  },
  {
   "cell_type": "code",
   "execution_count": 35,
   "id": "8d41e93d",
   "metadata": {},
   "outputs": [
    {
     "data": {
      "image/png": "[encoded data removed]",
      "text/plain": [
       "<Figure size 640x480 with 1 Axes>"
      ]
     },
     "metadata": {},
     "output_type": "display_data"
    }
   ],
   "source": [
    "# plotting default rates across grade of the loan\n",
    "sns.barplot(data=inp0, x='grade', y='loan_status')\n",
    "plt.show()"
   ]
  },
  {
   "cell_type": "markdown",
   "id": "53d58021",
   "metadata": {},
   "source": [
    "As we can see the default rate increases from A to G,\n",
    "because the grade is decided based on the risk of the loan."
   ]
  },
  {
   "cell_type": "code",
   "execution_count": 36,
   "id": "0b10ba01",
   "metadata": {},
   "outputs": [
    {
     "data": {
      "image/png": "[encoded data removed]",
      "text/plain": [
       "<Figure size 1600x600 with 1 Axes>"
      ]
     },
     "metadata": {},
     "output_type": "display_data"
    }
   ],
   "source": [
    "# plotting the sub-grade\n",
    "plt.figure(figsize=(16, 6))\n",
    "sns.barplot(data=inp0, x='sub_grade', y='loan_status')\n",
    "plt.show()"
   ]
  },
  {
   "cell_type": "code",
   "execution_count": 37,
   "id": "97afc78c",
   "metadata": {
    "scrolled": true
   },
   "outputs": [
    {
     "data": {
      "image/png": "[encoded data removed]",
      "text/plain": [
       "<Figure size 1600x600 with 1 Axes>"
      ]
     },
     "metadata": {},
     "output_type": "display_data"
    }
   ],
   "source": [
    "# purpose\n",
    "plt.figure(figsize=(16, 6))\n",
    "sns.barplot(data=inp0, x='purpose', y='loan_status')\n",
    "plt.show()"
   ]
  },
  {
   "cell_type": "markdown",
   "id": "4029d22c",
   "metadata": {},
   "source": [
    "small business have higher no. of default followed by renewable energy and education"
   ]
  },
  {
   "cell_type": "code",
   "execution_count": 38,
   "id": "0ed2abd3",
   "metadata": {
    "scrolled": true
   },
   "outputs": [
    {
     "data": {
      "image/png": "[encoded data removed]",
      "text/plain": [
       "<Figure size 1600x600 with 1 Axes>"
      ]
     },
     "metadata": {},
     "output_type": "display_data"
    }
   ],
   "source": [
    "# verification_status\n",
    "plt.figure(figsize=(16, 6))\n",
    "sns.barplot(data=inp0, x='verification_status', y='loan_status')\n",
    "plt.show()"
   ]
  },
  {
   "cell_type": "markdown",
   "id": "f550b4a9",
   "metadata": {},
   "source": [
    "Quite different as verified loan has higher no. of default then not verified."
   ]
  },
  {
   "cell_type": "code",
   "execution_count": 39,
   "id": "d33e1744",
   "metadata": {
    "scrolled": true
   },
   "outputs": [
    {
     "data": {
      "image/png": "[encoded data removed]",
      "text/plain": [
       "<Figure size 1600x600 with 1 Axes>"
      ]
     },
     "metadata": {},
     "output_type": "display_data"
    }
   ],
   "source": [
    "# home ownership\n",
    "plt.figure(figsize=(16, 6))\n",
    "sns.barplot(data=inp0, x='home_ownership', y='loan_status')\n",
    "plt.show()"
   ]
  },
  {
   "cell_type": "markdown",
   "id": "39d71c61",
   "metadata": {},
   "source": [
    "Not much difference."
   ]
  },
  {
   "cell_type": "markdown",
   "id": "49130367",
   "metadata": {},
   "source": [
    "### Now let's look into loans with time"
   ]
  },
  {
   "cell_type": "code",
   "execution_count": 40,
   "id": "5bbdcf7a",
   "metadata": {},
   "outputs": [
    {
     "data": {
      "text/plain": [
       "0    Dec-11\n",
       "1    Dec-11\n",
       "2    Dec-11\n",
       "3    Dec-11\n",
       "5    Dec-11\n",
       "Name: issue_d, dtype: object"
      ]
     },
     "execution_count": 40,
     "metadata": {},
     "output_type": "execute_result"
    }
   ],
   "source": [
    "# The distribution of loans across years\n",
    "# convert the year column into datetime and then extract year and month from it\n",
    "inp0['issue_d'].head()"
   ]
  },
  {
   "cell_type": "code",
   "execution_count": 41,
   "id": "b2261f2a",
   "metadata": {},
   "outputs": [],
   "source": [
    "from datetime import datetime\n",
    "inp0['issue_d'] = inp0['issue_d'].apply(lambda x: datetime.strptime(x, '%b-%y'))"
   ]
  },
  {
   "cell_type": "code",
   "execution_count": 42,
   "id": "cc320d09",
   "metadata": {},
   "outputs": [],
   "source": [
    "inp0['month'] = inp0['issue_d'].apply(lambda x: x.month)\n",
    "inp0['year'] = inp0['issue_d'].apply(lambda x: x.year)"
   ]
  },
  {
   "cell_type": "code",
   "execution_count": 43,
   "id": "8efd8e07",
   "metadata": {
    "scrolled": true
   },
   "outputs": [
    {
     "data": {
      "text/plain": [
       "year\n",
       "2007      251\n",
       "2008     1562\n",
       "2009     4716\n",
       "2010    11532\n",
       "2011    20516\n",
       "Name: year, dtype: int64"
      ]
     },
     "execution_count": 43,
     "metadata": {},
     "output_type": "execute_result"
    }
   ],
   "source": [
    "# Number of loans across years\n",
    "inp0.groupby('year').year.count()\n"
   ]
  },
  {
   "cell_type": "markdown",
   "id": "638243d2",
   "metadata": {},
   "source": [
    " Number of loans has increased over years."
   ]
  },
  {
   "cell_type": "code",
   "execution_count": 44,
   "id": "b47566ee",
   "metadata": {},
   "outputs": [
    {
     "data": {
      "text/plain": [
       "month\n",
       "1     2379\n",
       "2     2358\n",
       "3     2691\n",
       "4     2831\n",
       "5     2919\n",
       "6     3180\n",
       "7     3351\n",
       "8     3388\n",
       "9     3498\n",
       "10    3761\n",
       "11    4006\n",
       "12    4215\n",
       "Name: month, dtype: int64"
      ]
     },
     "execution_count": 44,
     "metadata": {},
     "output_type": "execute_result"
    }
   ],
   "source": [
    "# number of loans across months\n",
    "inp0.groupby('month').month.count()"
   ]
  },
  {
   "cell_type": "markdown",
   "id": "5be6a6b0",
   "metadata": {},
   "source": [
    "Large no. of loans is in December or in 2nd half of the year.\n"
   ]
  },
  {
   "cell_type": "code",
   "execution_count": 45,
   "id": "c0df8f18",
   "metadata": {},
   "outputs": [
    {
     "data": {
      "image/png": "[encoded data removed]",
      "text/plain": [
       "<Figure size 640x480 with 1 Axes>"
      ]
     },
     "metadata": {},
     "output_type": "display_data"
    }
   ],
   "source": [
    "#compare the default rates across years.\n",
    "sns.barplot(data=inp0, x='year', y='loan_status')\n",
    "plt.show()"
   ]
  },
  {
   "cell_type": "markdown",
   "id": "6c8c2a44",
   "metadata": {},
   "source": [
    "Rates are decreasing from 2007 to 2010 but it gradually start increasing in 2011."
   ]
  },
  {
   "cell_type": "code",
   "execution_count": 46,
   "id": "7031395b",
   "metadata": {
    "scrolled": true
   },
   "outputs": [
    {
     "data": {
      "image/png": "[encoded data removed]",
      "text/plain": [
       "<Figure size 640x480 with 1 Axes>"
      ]
     },
     "metadata": {},
     "output_type": "display_data"
    }
   ],
   "source": [
    "#compare the default rates across months.\n",
    "sns.barplot(data=inp0, x='month', y='loan_status')\n",
    "plt.show()"
   ]
  },
  {
   "cell_type": "markdown",
   "id": "85c1da0d",
   "metadata": {},
   "source": [
    "Not clear as there is very less variation."
   ]
  },
  {
   "cell_type": "code",
   "execution_count": 47,
   "id": "6d3a612b",
   "metadata": {},
   "outputs": [
    {
     "data": {
      "image/png": "[encoded data removed]",
      "text/plain": [
       "<Figure size 640x480 with 1 Axes>"
      ]
     },
     "metadata": {},
     "output_type": "display_data"
    }
   ],
   "source": [
    "# Create a distribultion plot for loan amount: the median loan amount is around 10,000\n",
    "sns.distplot(inp0['loan_amnt'])\n",
    "plt.show()"
   ]
  },
  {
   "cell_type": "markdown",
   "id": "1f744c3c",
   "metadata": {},
   "source": [
    " Binning the loan amount variable into small, medium, high, very high."
   ]
  },
  {
   "cell_type": "code",
   "execution_count": 48,
   "id": "9b849506",
   "metadata": {},
   "outputs": [],
   "source": [
    "# binning loan amount\n",
    "def loan_amount(n):\n",
    "    if n < 5000:\n",
    "        return 'low'\n",
    "    elif n >=5000 and n < 15000:\n",
    "        return 'medium'\n",
    "    elif n >= 15000 and n < 25000:\n",
    "        return 'high'\n",
    "    else:\n",
    "        return 'very high'\n",
    "        \n",
    "inp0['loan_amnt'] = inp0['loan_amnt'].apply(lambda x: loan_amount(x))"
   ]
  },
  {
   "cell_type": "code",
   "execution_count": 49,
   "id": "8e5a0d48",
   "metadata": {},
   "outputs": [
    {
     "data": {
      "text/plain": [
       "medium       20675\n",
       "high          7696\n",
       "low           7444\n",
       "very high     2762\n",
       "Name: loan_amnt, dtype: int64"
      ]
     },
     "execution_count": 49,
     "metadata": {},
     "output_type": "execute_result"
    }
   ],
   "source": [
    "inp0['loan_amnt'].value_counts()"
   ]
  },
  {
   "cell_type": "markdown",
   "id": "5784e274",
   "metadata": {},
   "source": [
    "Comparing the default rates across loan amount type"
   ]
  },
  {
   "cell_type": "code",
   "execution_count": 50,
   "id": "cc8abca2",
   "metadata": {},
   "outputs": [
    {
     "data": {
      "image/png": "[encoded data removed]",
      "text/plain": [
       "<Figure size 640x480 with 1 Axes>"
      ]
     },
     "metadata": {},
     "output_type": "display_data"
    }
   ],
   "source": [
    "sns.barplot(data=inp0, x='loan_amnt', y='loan_status')\n",
    "plt.show()"
   ]
  },
  {
   "cell_type": "markdown",
   "id": "d6d90a5e",
   "metadata": {},
   "source": [
    "As we can see in this chart higher the loan amount higher the chances of default."
   ]
  },
  {
   "cell_type": "code",
   "execution_count": 51,
   "id": "ed6e377b",
   "metadata": {},
   "outputs": [],
   "source": [
    "#convert funded amount invested to bins\n",
    "inp0['funded_amnt_inv'] = inp0['funded_amnt_inv'].apply(lambda x: loan_amount(x))"
   ]
  },
  {
   "cell_type": "code",
   "execution_count": 52,
   "id": "e1039012",
   "metadata": {},
   "outputs": [
    {
     "data": {
      "image/png": "[encoded data removed]",
      "text/plain": [
       "<Figure size 640x480 with 1 Axes>"
      ]
     },
     "metadata": {},
     "output_type": "display_data"
    }
   ],
   "source": [
    "# funded amount invested\n",
    "sns.barplot(data=inp0, x='funded_amnt_inv', y='loan_status')\n",
    "plt.show()"
   ]
  },
  {
   "cell_type": "code",
   "execution_count": 58,
   "id": "3586b41c",
   "metadata": {},
   "outputs": [],
   "source": [
    "# annual income\n",
    "def annual_income(n):\n",
    "    if n <= 50000:\n",
    "        return 'low'\n",
    "    elif n > 50000 and n <=100000:\n",
    "        return 'medium'\n",
    "    elif n > 100000 and n <=150000:\n",
    "        return 'high'\n",
    "    else:\n",
    "        return 'very high'\n",
    "\n",
    "inp0['annual_inc'] = inp0['annual_inc'].apply(lambda x: annual_income(x))"
   ]
  },
  {
   "cell_type": "code",
   "execution_count": 59,
   "id": "6641b77e",
   "metadata": {},
   "outputs": [
    {
     "data": {
      "image/png": "[encoded data removed]",
      "text/plain": [
       "<Figure size 640x480 with 1 Axes>"
      ]
     },
     "metadata": {},
     "output_type": "display_data"
    }
   ],
   "source": [
    "# annual income and default rate\n",
    "sns.barplot(data=inp0, x='annual_inc', y='loan_status')\n",
    "plt.show()"
   ]
  },
  {
   "cell_type": "markdown",
   "id": "9f4a28c0",
   "metadata": {},
   "source": [
    "lower the annual income, higher the default rate."
   ]
  },
  {
   "cell_type": "code",
   "execution_count": 64,
   "id": "0d2a2527",
   "metadata": {},
   "outputs": [],
   "source": [
    "# installment\n",
    "def installment(n):\n",
    "    if n <= 200:\n",
    "        return 'low'\n",
    "    elif n > 200 and n <=400:\n",
    "        return 'medium'\n",
    "    elif n > 400 and n <=600:\n",
    "        return 'high'\n",
    "    else:\n",
    "        return 'very high'\n",
    "    \n",
    "inp0['installment'] = inp0['installment'].apply(lambda x: installment(x))"
   ]
  },
  {
   "cell_type": "code",
   "execution_count": 65,
   "id": "a9287a49",
   "metadata": {},
   "outputs": [
    {
     "data": {
      "image/png": "[encoded data removed]",
      "text/plain": [
       "<Figure size 640x480 with 1 Axes>"
      ]
     },
     "metadata": {},
     "output_type": "display_data"
    }
   ],
   "source": [
    "# Default rates across installment\n",
    "sns.barplot(data=inp0, x='installment', y='loan_status')\n",
    "plt.show()"
   ]
  },
  {
   "cell_type": "markdown",
   "id": "6bd47dad",
   "metadata": {},
   "source": [
    "higher installment amount, higher the default rate"
   ]
  },
  {
   "cell_type": "code",
   "execution_count": 67,
   "id": "78b2d377",
   "metadata": {},
   "outputs": [],
   "source": [
    "# funded amount\n",
    "def funded_amount(n):\n",
    "    if n <= 5000:\n",
    "        return 'low'\n",
    "    elif n > 5000 and n <=15000:\n",
    "        return 'medium'\n",
    "    else:\n",
    "        return 'high'\n",
    "    \n",
    "inp0['funded_amnt'] = inp0['funded_amnt'].apply(lambda x: funded_amount(x))"
   ]
  },
  {
   "cell_type": "code",
   "execution_count": 69,
   "id": "3953b499",
   "metadata": {},
   "outputs": [
    {
     "data": {
      "image/png": "[encoded data removed]",
      "text/plain": [
       "<Figure size 640x480 with 1 Axes>"
      ]
     },
     "metadata": {},
     "output_type": "display_data"
    }
   ],
   "source": [
    "sns.barplot(data=inp0, x='funded_amnt', y='loan_status')\n",
    "plt.show()"
   ]
  },
  {
   "cell_type": "code",
   "execution_count": 71,
   "id": "f4ee986a",
   "metadata": {},
   "outputs": [],
   "source": [
    "# debt to income ratio\n",
    "def dti(n):\n",
    "    if n <= 10:\n",
    "        return 'low'\n",
    "    elif n > 10 and n <=20:\n",
    "        return 'medium'\n",
    "    else:\n",
    "        return 'high'\n",
    "    \n",
    "\n",
    "inp0['dti'] = inp0['dti'].apply(lambda x: dti(x))"
   ]
  },
  {
   "cell_type": "code",
   "execution_count": 73,
   "id": "8b4fcece",
   "metadata": {},
   "outputs": [
    {
     "data": {
      "image/png": "[encoded data removed]",
      "text/plain": [
       "<Figure size 640x480 with 1 Axes>"
      ]
     },
     "metadata": {},
     "output_type": "display_data"
    }
   ],
   "source": [
    "## Default rates across debt to income ratio\n",
    "sns.barplot(data=inp0, x='dti', y='loan_status')\n",
    "plt.show()"
   ]
  },
  {
   "cell_type": "markdown",
   "id": "b28ec9df",
   "metadata": {},
   "source": [
    "high dti means higher default rates"
   ]
  },
  {
   "cell_type": "code",
   "execution_count": 74,
   "id": "0c613896",
   "metadata": {},
   "outputs": [],
   "source": [
    "#convert interest rate to low, medium, high\n",
    "def int_rate(n):\n",
    "    if n <= 10:\n",
    "        return 'low'\n",
    "    elif n > 10 and n <=15:\n",
    "        return 'medium'\n",
    "    else:\n",
    "        return 'high'\n",
    "    "
   ]
  },
  {
   "cell_type": "code",
   "execution_count": 75,
   "id": "0d4fd20b",
   "metadata": {},
   "outputs": [],
   "source": [
    "inp0['int_rate'] =inp0['int_rate'].apply(lambda x: int_rate(x))"
   ]
  },
  {
   "cell_type": "code",
   "execution_count": 78,
   "id": "f424ad3c",
   "metadata": {},
   "outputs": [
    {
     "data": {
      "image/png": "[encoded data removed]",
      "text/plain": [
       "<Figure size 640x480 with 1 Axes>"
      ]
     },
     "metadata": {},
     "output_type": "display_data"
    }
   ],
   "source": [
    "# Default rates across rates of interest\n",
    "sns.barplot(data=inp0, x='int_rate', y='loan_status')\n",
    "plt.show()"
   ]
  },
  {
   "cell_type": "markdown",
   "id": "3976a3b5",
   "metadata": {},
   "source": [
    "high interest rates means more default"
   ]
  },
  {
   "cell_type": "code",
   "execution_count": null,
   "id": "c2232511",
   "metadata": {},
   "outputs": [],
   "source": []
  }
 ],
 "metadata": {
  "kernelspec": {
   "display_name": "Python 3 (ipykernel)",
   "language": "python",
   "name": "python3"
  },
  "language_info": {
   "codemirror_mode": {
    "name": "ipython",
    "version": 3
   },
   "file_extension": ".py",
   "mimetype": "text/x-python",
   "name": "python",
   "nbconvert_exporter": "python",
   "pygments_lexer": "ipython3",
   "version": "3.10.9"
  }
 },
 "nbformat": 4,
 "nbformat_minor": 5
}
